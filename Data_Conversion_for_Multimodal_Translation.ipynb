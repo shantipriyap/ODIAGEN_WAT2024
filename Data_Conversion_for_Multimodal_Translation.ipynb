{
  "nbformat": 4,
  "nbformat_minor": 0,
  "metadata": {
    "colab": {
      "provenance": [],
      "gpuType": "T4"
    },
    "kernelspec": {
      "name": "python3",
      "display_name": "Python 3"
    },
    "language_info": {
      "name": "python"
    },
    "accelerator": "GPU"
  },
  "cells": [
    {
      "cell_type": "markdown",
      "source": [
        "Data Extraction_csv\n"
      ],
      "metadata": {
        "id": "2xi5fpQ18j6T"
      }
    },
    {
      "cell_type": "code",
      "source": [
        "import pandas as pd\n",
        "\n",
        "# Define the input and output file paths\n",
        "input_file_path = '../hindi-visual-genome-train.txt'\n",
        "output_file_path = '../hindi-visual-genome-train.csv'\n",
        "\n",
        "# Read the input data from the txt file\n",
        "data = []\n",
        "with open(input_file_path, 'r', encoding='utf-8') as file:\n",
        "    for line in file:\n",
        "        # Split the line by tab characters\n",
        "        columns = line.strip().split('\\t')\n",
        "        # Append the necessary columns (X, Y, Width, Height) to the data list\n",
        "        data.append([columns[1], columns[2], columns[3], columns[4]])\n",
        "\n",
        "# Create a DataFrame from the data list\n",
        "df = pd.DataFrame(data, columns=['X', 'Y', 'Width', 'Height'])\n",
        "\n",
        "# Save the DataFrame to a CSV file\n",
        "df.to_csv(output_file_path, index=False)\n",
        "\n",
        "print(f\"Data has been successfully extracted and saved to {output_file_path}\")\n"
      ],
      "metadata": {
        "id": "3px8KYqX8mNw"
      },
      "execution_count": null,
      "outputs": []
    },
    {
      "cell_type": "code",
      "source": [
        "# @title Default title text\n",
        "import pandas as pd\n",
        "\n",
        "# Function to process a single line of the text file\n",
        "def process_line(line):\n",
        "    parts = line.strip().split('\\t')\n",
        "    if len(parts) != 7:\n",
        "        return None\n",
        "\n",
        "    try:\n",
        "        image_id, center_x, center_y, width, height, english_text, hindi_text = parts\n",
        "\n",
        "        # Convert values to floats\n",
        "        center_x = float(center_x)\n",
        "        center_y = float(center_y)\n",
        "        width = float(width)\n",
        "        height = float(height)\n",
        "\n",
        "    except ValueError:\n",
        "        # Skip lines where conversion to float fails\n",
        "        print(f\"Skipping line due to conversion error: {line.strip()}\")\n",
        "        return None\n",
        "\n",
        "    # Calculate bounding box coordinates\n",
        "    x_min = center_x - width / 2\n",
        "    y_min = center_y - height / 2\n",
        "    x_max = center_x + width / 2\n",
        "    y_max = center_y + height / 2\n",
        "\n",
        "    return [image_id, center_x, center_y, width, height, x_min, y_min, x_max, y_max, english_text, hindi_text]\n",
        "\n",
        "# Read the text file and create a DataFrame\n",
        "input_txt_file = '.../hindi-visual-genome-train.txt'\n",
        "data_txt = []\n",
        "\n",
        "with open(input_txt_file, 'r', encoding='utf-8') as file:\n",
        "    for line in file:\n",
        "        processed_line = process_line(line)\n",
        "        if processed_line:\n",
        "            data_txt.append(processed_line)\n",
        "\n",
        "# Create a DataFrame from the text file data\n",
        "columns_txt = ['image_id', 'X', 'Y', 'Width', 'Height', 'Xmin', 'Ymin', 'Xmax','Ymax', 'English Text', 'Hindi Text']\n",
        "df_txt = pd.DataFrame(data_txt, columns=columns_txt)\n",
        "\n",
        "# Ensure that the columns are of the same type before merging\n",
        "df_txt['X'] = df_txt['X'].astype(float)\n",
        "df_txt['Y'] = df_txt['Y'].astype(float)\n",
        "df_txt['Width'] = df_txt['Width'].astype(float)\n",
        "df_txt['Height'] = df_txt['Height'].astype(float)\n",
        "\n",
        "# Read the existing CSV file\n",
        "input_csv_file = '.../hindi-visual-genome-train.csv'\n",
        "df_csv = pd.read_csv(input_csv_file)\n",
        "\n",
        "# Check and remove non-numeric values in 'Height' column\n",
        "df_csv = df_csv[pd.to_numeric(df_csv['Height'], errors='coerce').notna()]\n",
        "\n",
        "# Convert columns to float\n",
        "df_csv['X'] = df_csv['X'].astype(float)\n",
        "df_csv['Y'] = df_csv['Y'].astype(float)\n",
        "df_csv['Width'] = df_csv['Width'].astype(float)\n",
        "df_csv['Height'] = df_csv['Height'].astype(float)\n",
        "\n",
        "# Merge the text DataFrame with the CSV DataFrame on 'X', 'Y', 'Width', and 'Height' columns\n",
        "df_merged = pd.merge(df_csv, df_txt, on=['X', 'Y', 'Width', 'Height'])\n",
        "\n",
        "# Save the resulting DataFrame to a new CSV file\n",
        "output_file = '.../hindi-visual-genome-train1.csv'\n",
        "df_merged.to_csv(output_file, index=False)\n",
        "\n",
        "print(f\"Processing complete. Check the {output_file} file for results.\")"
      ],
      "metadata": {
        "id": "t9YVUcDcqElv"
      },
      "execution_count": null,
      "outputs": []
    },
    {
      "cell_type": "markdown",
      "source": [
        "Absolute conversion"
      ],
      "metadata": {
        "id": "oK5u8ZoUS0Yu"
      }
    },
    {
      "cell_type": "code",
      "source": [
        "import pandas as pd\n",
        "import os\n",
        "\n",
        "# Read the CSV into a DataFrame\n",
        "df = pd.read_csv(\".../hindi-visual-genome-train1.csv\")\n",
        "\n",
        "# Convert the specified columns to absolute integer values\n",
        "columns_to_convert = ['Xmin', 'Ymin', 'Xmax', 'Ymax']\n",
        "df[columns_to_convert] = df[columns_to_convert].applymap(lambda x: int(x))\n",
        "\n",
        "# Save the modified DataFrame back to a CSV file\n",
        "output_file = \".../hindi-visual-genome-train2.csv\"\n",
        "df.to_csv(output_file, index=False)\n",
        "\n",
        "print(f\"The modified CSV file has been saved to {output_file}\")\n"
      ],
      "metadata": {
        "id": "jFl7o2AqSznO"
      },
      "execution_count": null,
      "outputs": []
    },
    {
      "cell_type": "markdown",
      "source": [
        "Making into required format"
      ],
      "metadata": {
        "id": "M_ZJCeB97EAh"
      }
    },
    {
      "cell_type": "code",
      "source": [
        "import pandas as pd\n",
        "import base64\n",
        "import json\n",
        "\n",
        "# Read the input CSV file\n",
        "input_csv_file = '.../hindi-visual-genome-train2.csv'  # Update this path to the actual file location\n",
        "output_json_file = '.../hindi-visual-genome-train.json'  # Update this path to the desired output file location\n",
        "\n",
        "# Load the CSV file into a DataFrame\n",
        "df = pd.read_csv(input_csv_file)\n",
        "\n",
        "# Define a placeholder for the base64 encoded image\n",
        "encoded_image = \"<base64 encode image>\"\n",
        "\n",
        "# Define the function to process each row\n",
        "def process_row(row):\n",
        "    image_id = row['image_id']\n",
        "    y_min = row['Ymin']\n",
        "    x_min = row['Xmin']\n",
        "    y_max = row['Ymax']\n",
        "    x_max = row['Xmax']\n",
        "    Hindi_text = row['Hindi Text']\n",
        "\n",
        "    # Construct the JSON structure\n",
        "    json_object = {\n",
        "        \"id\": str(image_id),\n",
        "        \"message\": [\n",
        "            {\n",
        "                \"content\": f\"describe the image in hindi <loc{y_min}><loc{x_min}><loc{y_max}><loc{x_max}>\",\n",
        "                \"role\": \"user\"\n",
        "            },\n",
        "            {\n",
        "                \"content\": hindi,\n",
        "                \"role\": \"assistant\"\n",
        "            }\n",
        "        ],\n",
        "        \"images\": encoded_image  # Use the placeholder for base64 encoded image\n",
        "    }\n",
        "\n",
        "    return json_object\n",
        "\n",
        "# Process each row and collect the JSON objects\n",
        "json_data = [process_row(row) for _, row in df.iterrows()]\n",
        "\n",
        "# Write the JSON data to a file\n",
        "with open(output_json_file, 'w', encoding='utf-8') as json_file:\n",
        "    json.dump(json_data, json_file, ensure_ascii=False, indent=4)\n",
        "\n",
        "print(f\"Processing complete. The JSON file has been saved to {output_json_file}\")\n"
      ],
      "metadata": {
        "id": "629jzz3833aB"
      },
      "execution_count": null,
      "outputs": []
    }
  ]
}